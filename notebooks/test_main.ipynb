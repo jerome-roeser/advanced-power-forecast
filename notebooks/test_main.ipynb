{
 "cells": [
  {
   "cell_type": "markdown",
   "metadata": {},
   "source": [
    "## 0.1) imports"
   ]
  },
  {
   "cell_type": "code",
   "execution_count": 1,
   "metadata": {},
   "outputs": [
    {
     "name": "stderr",
     "output_type": "stream",
     "text": [
      "2024-11-19 12:38:23.767905: I tensorflow/tsl/cuda/cudart_stub.cc:28] Could not find cuda drivers on your machine, GPU will not be used.\n",
      "2024-11-19 12:38:24.398504: I tensorflow/tsl/cuda/cudart_stub.cc:28] Could not find cuda drivers on your machine, GPU will not be used.\n",
      "2024-11-19 12:38:24.402713: I tensorflow/core/platform/cpu_feature_guard.cc:182] This TensorFlow binary is optimized to use available CPU instructions in performance-critical operations.\n",
      "To enable the following instructions: AVX2 FMA, in other operations, rebuild TensorFlow with the appropriate compiler flags.\n",
      "2024-11-19 12:38:29.569215: W tensorflow/compiler/tf2tensorrt/utils/py_utils.cc:38] TF-TRT Warning: Could not find TensorRT\n"
     ]
    }
   ],
   "source": [
    "import numpy as np\n",
    "import pandas as pd\n",
    "import matplotlib.pyplot as plt\n",
    "import tensorflow as tf\n",
    "\n",
    "from pathlib import Path\n",
    "from colorama import Fore, Style\n",
    "from dateutil.parser import parse\n",
    "from typing import Dict, List, Tuple, Sequence\n",
    "from datetime import datetime\n",
    "\n",
    "from power.params import *\n",
    "from power.ml_ops.data import *\n",
    "from power.ml_ops.model import *\n",
    "from power.ml_ops.registry import load_model, save_model, save_results\n",
    "from power.ml_ops.cross_val import get_X_y_seq, get_X_y_seq_pv\n",
    "from power.interface.main import train, evaluate, pred\n",
    "\n",
    "from power.utils import plot_loss_mae\n",
    "\n",
    "import requests"
   ]
  },
  {
   "cell_type": "code",
   "execution_count": 2,
   "metadata": {},
   "outputs": [
    {
     "name": "stderr",
     "output_type": "stream",
     "text": [
      "/home/jerome-roeser/code/jerome-roeser/11-Personal-Projects/git_repos/advanced-power-forecast/power/ml_ops/data.py:272: SettingWithCopyWarning: \n",
      "A value is trying to be set on a copy of a slice from a DataFrame.\n",
      "Try using .loc[row_indexer,col_indexer] = value instead\n",
      "\n",
      "See the caveats in the documentation: https://pandas.pydata.org/pandas-docs/stable/user_guide/indexing.html#returning-a-view-versus-a-copy\n",
      "  years_df['hour_of_year'] = years_df.utc_time.\\\n"
     ]
    }
   ],
   "source": [
    "#### Load saved sequences\n",
    "sequence_cache_path = Path(LOCAL_DATA_PATH).joinpath(\"sequences\")\n",
    "X = np.load(sequence_cache_path.joinpath('X_train.npy'))\n",
    "y = np.load(sequence_cache_path.joinpath('y_train.npy'))\n",
    "\n",
    "X_full = np.load(sequence_cache_path.joinpath('X_train_full.npy'))\n",
    "y_full = np.load(sequence_cache_path.joinpath('y_train_full.npy'))\n",
    "\n",
    "## Get all data\n",
    "data_processed_pv_cache_path = Path(LOCAL_DATA_PATH).joinpath(\"processed\", f\"processed_pv.csv\")\n",
    "data_processed_pv = pd.read_csv(data_processed_pv_cache_path)\n",
    "\n",
    "data_processed_forecast_cache_path = Path(LOCAL_DATA_PATH).joinpath(\"processed\", f\"processed_weather_forecast.csv\")\n",
    "data_processed_forecast = pd.read_csv(data_processed_forecast_cache_path)\n",
    "\n",
    "\n",
    "data_processed_pv.utc_time = pd.to_datetime(data_processed_pv.utc_time,utc=True)\n",
    "\n",
    "min_date_pv= '1980-01-01 00:00:00'\n",
    "min_date_forecast = '2017-10-07 00:00:00'\n",
    "max_date = '2019-12-31 23:00:00'\n",
    "train_pv = data_processed_pv[(data_processed_pv['utc_time'] > min_date_forecast) \\\n",
    "                                 & (data_processed_pv['utc_time'] < max_date)]\n",
    "\n",
    "train_forecast = data_processed_forecast\n",
    "\n",
    "stats_df = get_stats_table(data_processed_pv, capacity=False)\n",
    "# pred_df = pred(input_pred='2022-07-06 12:00:00', forecast_features= False)"
   ]
  },
  {
   "cell_type": "code",
   "execution_count": 8,
   "metadata": {},
   "outputs": [
    {
     "name": "stdout",
     "output_type": "stream",
     "text": [
      "\u001b[35m\n",
      "⭐️ Use case: predict\u001b[0m\n",
      "\u001b[34m\n",
      "Load data from local CSV...\u001b[0m\n",
      "✅ Data loaded, with shape (376944, 6)\n",
      "\u001b[34m\n",
      "Load latest model from local registry...\u001b[0m\n",
      "\u001b[34m\n",
      "Load latest model from disk...\u001b[0m\n"
     ]
    },
    {
     "name": "stderr",
     "output_type": "stream",
     "text": [
      "2024-11-19 12:41:50.283584: I tensorflow/core/common_runtime/executor.cc:1197] [/device:CPU:0] (DEBUG INFO) Executor start aborting (this does not indicate an error and you can ignore this message): INVALID_ARGUMENT: You must feed a value for placeholder tensor 'gradients/split_2_grad/concat/split_2/split_dim' with dtype int32\n",
      "\t [[{{node gradients/split_2_grad/concat/split_2/split_dim}}]]\n",
      "2024-11-19 12:41:50.295002: I tensorflow/core/common_runtime/executor.cc:1197] [/device:CPU:0] (DEBUG INFO) Executor start aborting (this does not indicate an error and you can ignore this message): INVALID_ARGUMENT: You must feed a value for placeholder tensor 'gradients/split_grad/concat/split/split_dim' with dtype int32\n",
      "\t [[{{node gradients/split_grad/concat/split/split_dim}}]]\n",
      "2024-11-19 12:41:50.302816: I tensorflow/core/common_runtime/executor.cc:1197] [/device:CPU:0] (DEBUG INFO) Executor start aborting (this does not indicate an error and you can ignore this message): INVALID_ARGUMENT: You must feed a value for placeholder tensor 'gradients/split_1_grad/concat/split_1/split_dim' with dtype int32\n",
      "\t [[{{node gradients/split_1_grad/concat/split_1/split_dim}}]]\n"
     ]
    },
    {
     "name": "stdout",
     "output_type": "stream",
     "text": [
      "✅ Model loaded from local disk\n",
      "\u001b[34m\n",
      "Predict with {'electricity': 0, 'day_sin': 1, 'day_cos': 2, 'year_sin': 3, 'year_cos': 4} X_pred tensors         \n",
      " -> forecast features: False\u001b[0m\n"
     ]
    },
    {
     "name": "stderr",
     "output_type": "stream",
     "text": [
      "2024-11-19 12:41:51.705875: I tensorflow/core/common_runtime/executor.cc:1197] [/device:CPU:0] (DEBUG INFO) Executor start aborting (this does not indicate an error and you can ignore this message): INVALID_ARGUMENT: You must feed a value for placeholder tensor 'gradients/split_2_grad/concat/split_2/split_dim' with dtype int32\n",
      "\t [[{{node gradients/split_2_grad/concat/split_2/split_dim}}]]\n",
      "2024-11-19 12:41:51.711589: I tensorflow/core/common_runtime/executor.cc:1197] [/device:CPU:0] (DEBUG INFO) Executor start aborting (this does not indicate an error and you can ignore this message): INVALID_ARGUMENT: You must feed a value for placeholder tensor 'gradients/split_grad/concat/split/split_dim' with dtype int32\n",
      "\t [[{{node gradients/split_grad/concat/split/split_dim}}]]\n",
      "2024-11-19 12:41:51.716313: I tensorflow/core/common_runtime/executor.cc:1197] [/device:CPU:0] (DEBUG INFO) Executor start aborting (this does not indicate an error and you can ignore this message): INVALID_ARGUMENT: You must feed a value for placeholder tensor 'gradients/split_1_grad/concat/split_1/split_dim' with dtype int32\n",
      "\t [[{{node gradients/split_1_grad/concat/split_1/split_dim}}]]\n"
     ]
    },
    {
     "name": "stdout",
     "output_type": "stream",
     "text": [
      "1/1 [==============================] - 1s 1s/step\n",
      "\n",
      "✅ prediction done:  [[ 0.02377994  0.02213272  0.01315432  0.02075549  0.05093827  0.12132791\n",
      "   0.22772363  0.3520069   0.46313584  0.53938013  0.5721409   0.55516976\n",
      "   0.5191826   0.45038006  0.35290584  0.2515172   0.15520376  0.07836078\n",
      "   0.03493737  0.01556206  0.01204582  0.00296879 -0.00496154 -0.01527172]] (1, 24) \n",
      "\n",
      "\u001b[35m\n",
      "⭐️ Use case: predict\u001b[0m\n",
      "\u001b[34m\n",
      "Load data from local CSV...\u001b[0m\n",
      "✅ Data loaded, with shape (376944, 6)\n",
      "\u001b[34m\n",
      "Load data from local CSV...\u001b[0m\n",
      "✅ Data loaded, with shape (91704, 24)\n",
      "\u001b[34m\n",
      "Load latest model from local registry...\u001b[0m\n",
      "\u001b[34m\n",
      "Load latest model from disk...\u001b[0m\n"
     ]
    },
    {
     "name": "stderr",
     "output_type": "stream",
     "text": [
      "2024-11-19 12:41:55.770679: I tensorflow/core/common_runtime/executor.cc:1197] [/device:CPU:0] (DEBUG INFO) Executor start aborting (this does not indicate an error and you can ignore this message): INVALID_ARGUMENT: You must feed a value for placeholder tensor 'gradients/split_2_grad/concat/split_2/split_dim' with dtype int32\n",
      "\t [[{{node gradients/split_2_grad/concat/split_2/split_dim}}]]\n",
      "2024-11-19 12:41:55.777720: I tensorflow/core/common_runtime/executor.cc:1197] [/device:CPU:0] (DEBUG INFO) Executor start aborting (this does not indicate an error and you can ignore this message): INVALID_ARGUMENT: You must feed a value for placeholder tensor 'gradients/split_grad/concat/split/split_dim' with dtype int32\n",
      "\t [[{{node gradients/split_grad/concat/split/split_dim}}]]\n",
      "2024-11-19 12:41:55.781666: I tensorflow/core/common_runtime/executor.cc:1197] [/device:CPU:0] (DEBUG INFO) Executor start aborting (this does not indicate an error and you can ignore this message): INVALID_ARGUMENT: You must feed a value for placeholder tensor 'gradients/split_1_grad/concat/split_1/split_dim' with dtype int32\n",
      "\t [[{{node gradients/split_1_grad/concat/split_1/split_dim}}]]\n"
     ]
    },
    {
     "name": "stdout",
     "output_type": "stream",
     "text": [
      "✅ Model loaded from local disk\n",
      "\u001b[34m\n",
      "Predict with {'electricity': 0, 'day_sin': 21, 'day_cos': 22, 'year_sin': 23, 'year_cos': 24, 'temperature': 5, 'dew_point': 6, 'pressure': 7, 'ground_pressure': 8, 'humidity': 9, 'clouds': 10, 'rain': 11, 'snow': 12, 'ice': 13, 'fr_rain': 14, 'convective': 15, 'snow_depth': 16, 'accumulated': 17, 'hours': 18, 'rate': 19, 'probability': 20, 'Wx': 25, 'Wy': 26} X_pred tensors         \n",
      " -> forecast features: True\u001b[0m\n"
     ]
    },
    {
     "name": "stderr",
     "output_type": "stream",
     "text": [
      "2024-11-19 12:41:56.816411: I tensorflow/core/common_runtime/executor.cc:1197] [/device:CPU:0] (DEBUG INFO) Executor start aborting (this does not indicate an error and you can ignore this message): INVALID_ARGUMENT: You must feed a value for placeholder tensor 'gradients/split_2_grad/concat/split_2/split_dim' with dtype int32\n",
      "\t [[{{node gradients/split_2_grad/concat/split_2/split_dim}}]]\n",
      "2024-11-19 12:41:56.822665: I tensorflow/core/common_runtime/executor.cc:1197] [/device:CPU:0] (DEBUG INFO) Executor start aborting (this does not indicate an error and you can ignore this message): INVALID_ARGUMENT: You must feed a value for placeholder tensor 'gradients/split_grad/concat/split/split_dim' with dtype int32\n",
      "\t [[{{node gradients/split_grad/concat/split/split_dim}}]]\n",
      "2024-11-19 12:41:56.827245: I tensorflow/core/common_runtime/executor.cc:1197] [/device:CPU:0] (DEBUG INFO) Executor start aborting (this does not indicate an error and you can ignore this message): INVALID_ARGUMENT: You must feed a value for placeholder tensor 'gradients/split_1_grad/concat/split_1/split_dim' with dtype int32\n",
      "\t [[{{node gradients/split_1_grad/concat/split_1/split_dim}}]]\n"
     ]
    },
    {
     "name": "stdout",
     "output_type": "stream",
     "text": [
      "1/1 [==============================] - 1s 1s/step\n",
      "\n",
      "✅ prediction done:  [[0.13695635 0.1312954  0.12576167 0.12601697 0.1138956  0.09971845\n",
      "  0.10265615 0.10753613 0.11267563 0.11922325 0.11989239 0.11581486\n",
      "  0.12090086 0.12884232 0.1338112  0.13500968 0.14266115 0.13608047\n",
      "  0.13459432 0.12228379 0.13395695 0.13446927 0.14005269 0.15244603]] (1, 24) \n",
      "\n"
     ]
    }
   ],
   "source": [
    "y_pred_pv = pred(forecast_features= False)\n",
    "y_pred_forecast = pred(forecast_features= True)"
   ]
  },
  {
   "cell_type": "code",
   "execution_count": 12,
   "metadata": {},
   "outputs": [
    {
     "data": {
      "text/plain": [
       "<Axes: >"
      ]
     },
     "execution_count": 12,
     "metadata": {},
     "output_type": "execute_result"
    },
    {
     "data": {
      "image/png": "[encoded data removed]",
      "text/plain": [
       "<Figure size 640x480 with 1 Axes>"
      ]
     },
     "metadata": {},
     "output_type": "display_data"
    }
   ],
   "source": [
    "y_pred_pv.pred.plot()\n",
    "y_pred_forecast.pred.plot()"
   ]
  },
  {
   "cell_type": "code",
   "execution_count": 13,
   "metadata": {},
   "outputs": [
    {
     "name": "stdout",
     "output_type": "stream",
     "text": [
      "\u001b[35m\n",
      "⭐️ Use case: evaluate\u001b[0m\n",
      "\u001b[34m\n",
      "Load data from local CSV...\u001b[0m\n",
      "✅ Data loaded, with shape (376944, 6)\n",
      "\u001b[34m\n",
      "Load data from local CSV...\u001b[0m\n",
      "✅ Data loaded, with shape (91704, 24)\n"
     ]
    },
    {
     "name": "stderr",
     "output_type": "stream",
     "text": [
      "100%|██████████| 1000/1000 [04:24<00:00,  3.78it/s]\n"
     ]
    },
    {
     "name": "stdout",
     "output_type": "stream",
     "text": [
      "\u001b[34m\n",
      "Load latest model from local registry...\u001b[0m\n",
      "\u001b[34m\n",
      "Load latest model from disk...\u001b[0m\n"
     ]
    },
    {
     "name": "stderr",
     "output_type": "stream",
     "text": [
      "2024-11-19 12:50:50.647146: I tensorflow/core/common_runtime/executor.cc:1197] [/device:CPU:0] (DEBUG INFO) Executor start aborting (this does not indicate an error and you can ignore this message): INVALID_ARGUMENT: You must feed a value for placeholder tensor 'gradients/split_2_grad/concat/split_2/split_dim' with dtype int32\n",
      "\t [[{{node gradients/split_2_grad/concat/split_2/split_dim}}]]\n",
      "2024-11-19 12:50:50.652979: I tensorflow/core/common_runtime/executor.cc:1197] [/device:CPU:0] (DEBUG INFO) Executor start aborting (this does not indicate an error and you can ignore this message): INVALID_ARGUMENT: You must feed a value for placeholder tensor 'gradients/split_grad/concat/split/split_dim' with dtype int32\n",
      "\t [[{{node gradients/split_grad/concat/split/split_dim}}]]\n",
      "2024-11-19 12:50:50.657659: I tensorflow/core/common_runtime/executor.cc:1197] [/device:CPU:0] (DEBUG INFO) Executor start aborting (this does not indicate an error and you can ignore this message): INVALID_ARGUMENT: You must feed a value for placeholder tensor 'gradients/split_1_grad/concat/split_1/split_dim' with dtype int32\n",
      "\t [[{{node gradients/split_1_grad/concat/split_1/split_dim}}]]\n"
     ]
    },
    {
     "name": "stdout",
     "output_type": "stream",
     "text": [
      "✅ Model loaded from local disk\n"
     ]
    },
    {
     "name": "stderr",
     "output_type": "stream",
     "text": [
      "2024-11-19 12:50:51.868603: I tensorflow/core/common_runtime/executor.cc:1197] [/device:CPU:0] (DEBUG INFO) Executor start aborting (this does not indicate an error and you can ignore this message): INVALID_ARGUMENT: You must feed a value for placeholder tensor 'gradients/split_2_grad/concat/split_2/split_dim' with dtype int32\n",
      "\t [[{{node gradients/split_2_grad/concat/split_2/split_dim}}]]\n",
      "2024-11-19 12:50:51.875376: I tensorflow/core/common_runtime/executor.cc:1197] [/device:CPU:0] (DEBUG INFO) Executor start aborting (this does not indicate an error and you can ignore this message): INVALID_ARGUMENT: You must feed a value for placeholder tensor 'gradients/split_grad/concat/split/split_dim' with dtype int32\n",
      "\t [[{{node gradients/split_grad/concat/split/split_dim}}]]\n",
      "2024-11-19 12:50:51.880354: I tensorflow/core/common_runtime/executor.cc:1197] [/device:CPU:0] (DEBUG INFO) Executor start aborting (this does not indicate an error and you can ignore this message): INVALID_ARGUMENT: You must feed a value for placeholder tensor 'gradients/split_1_grad/concat/split_1/split_dim' with dtype int32\n",
      "\t [[{{node gradients/split_1_grad/concat/split_1/split_dim}}]]\n"
     ]
    },
    {
     "name": "stdout",
     "output_type": "stream",
     "text": [
      "✅ Model evaluated, MAE: 0.17\n",
      "✅ Results saved locally\n",
      "✅ evaluate() done \n",
      "\n"
     ]
    },
    {
     "data": {
      "text/plain": [
       "(array([[[ 0.00000000e+00, -5.31579770e-13,  1.00000000e+00, ...,\n",
       "          -8.92151243e-01, -2.58878231e+00, -7.12422657e+00],\n",
       "         [ 0.00000000e+00,  2.58819045e-01,  9.65925826e-01, ...,\n",
       "          -8.92151243e-01, -2.59324074e+00, -6.87732506e+00],\n",
       "         [ 0.00000000e+00,  5.00000000e-01,  8.66025404e-01, ...,\n",
       "          -8.92151243e-01, -3.02839613e+00, -6.06607103e+00],\n",
       "         ...,\n",
       "         [ 0.00000000e+00, -7.07106781e-01,  7.07106781e-01, ...,\n",
       "          -8.99789981e-01, -3.13514328e+00, -7.77030945e-01],\n",
       "         [ 0.00000000e+00, -5.00000000e-01,  8.66025404e-01, ...,\n",
       "          -8.99789981e-01, -2.97412825e+00, -5.79190016e-01],\n",
       "         [ 0.00000000e+00, -2.58819045e-01,  9.65925826e-01, ...,\n",
       "          -8.99789981e-01, -2.87721753e+00, -4.98016804e-01]],\n",
       " \n",
       "        [[ 0.00000000e+00, -5.00000000e-01,  8.66025404e-01, ...,\n",
       "          -5.60073251e-01, -2.88558650e+00, -2.03329539e+00],\n",
       "         [ 0.00000000e+00, -2.58819045e-01,  9.65925826e-01, ...,\n",
       "          -5.60073251e-01, -2.65560389e+00, -2.44537663e+00],\n",
       "         [ 0.00000000e+00, -1.35055928e-11,  1.00000000e+00, ...,\n",
       "          -5.60073251e-01, -2.30921984e+00, -2.92923260e+00],\n",
       "         ...,\n",
       "         [ 0.00000000e+00, -9.65925826e-01,  2.58819045e-01, ...,\n",
       "          -5.45739561e-01, -1.87114465e+00, -2.66303599e-01],\n",
       "         [ 0.00000000e+00, -8.66025404e-01,  5.00000000e-01, ...,\n",
       "          -5.45739561e-01, -1.93970644e+00, -6.63354158e-01],\n",
       "         [ 0.00000000e+00, -7.07106781e-01,  7.07106781e-01, ...,\n",
       "          -5.45739561e-01, -1.78807688e+00, -1.19385171e+00]],\n",
       " \n",
       "        [[ 0.00000000e+00,  7.07106781e-01,  7.07106781e-01, ...,\n",
       "           9.51861948e-01, -5.65392137e-01, -1.98089159e+00],\n",
       "         [ 0.00000000e+00,  8.66025404e-01,  5.00000000e-01, ...,\n",
       "           9.51861948e-01, -6.15641057e-01, -2.07040715e+00],\n",
       "         [ 0.00000000e+00,  9.65925826e-01,  2.58819045e-01, ...,\n",
       "           9.51861948e-01, -6.66093349e-01, -2.14914393e+00],\n",
       "         ...,\n",
       "         [ 0.00000000e+00, -1.32664180e-11,  1.00000000e+00, ...,\n",
       "           9.56993963e-01, -1.11424458e+00, -3.12743640e+00],\n",
       "         [ 0.00000000e+00,  2.58819045e-01,  9.65925826e-01, ...,\n",
       "           9.56993963e-01, -9.91379023e-01, -3.28360605e+00],\n",
       "         [ 0.00000000e+00,  5.00000000e-01,  8.66025404e-01, ...,\n",
       "           9.56993963e-01, -8.67890060e-01, -3.48351359e+00]],\n",
       " \n",
       "        ...,\n",
       " \n",
       "        [[ 2.37000000e-01,  8.66025404e-01, -5.00000000e-01, ...,\n",
       "          -3.01436317e-01, -1.09577107e+00,  2.47858548e+00],\n",
       "         [ 3.31000000e-01,  7.07106781e-01, -7.07106781e-01, ...,\n",
       "          -3.01436317e-01, -1.29080904e+00,  2.31437087e+00],\n",
       "         [ 4.55000000e-01,  5.00000000e-01, -8.66025404e-01, ...,\n",
       "          -3.01436317e-01, -1.45418537e+00,  2.11901975e+00],\n",
       "         ...,\n",
       "         [ 4.70000000e-02,  9.65925826e-01,  2.58819045e-01, ...,\n",
       "          -2.84989911e-01, -1.97703624e+00, -1.51374650e+00],\n",
       "         [ 2.26000000e-01,  1.00000000e+00, -4.56849654e-13, ...,\n",
       "          -2.84989911e-01, -1.96853721e+00, -1.84793437e+00],\n",
       "         [ 4.20000000e-01,  9.65925826e-01, -2.58819045e-01, ...,\n",
       "          -2.84989911e-01, -1.85938919e+00, -2.10683918e+00]],\n",
       " \n",
       "        [[ 7.74000000e-01,  2.58819045e-01, -9.65925826e-01, ...,\n",
       "          -6.93898490e-01, -2.59782672e-01,  1.68003368e+00],\n",
       "         [ 7.28000000e-01,  5.29950580e-12, -1.00000000e+00, ...,\n",
       "          -6.93898490e-01, -3.50288004e-01,  1.94876838e+00],\n",
       "         [ 6.38000000e-01, -2.58819045e-01, -9.65925826e-01, ...,\n",
       "          -6.93898490e-01, -4.79475796e-01,  2.38222647e+00],\n",
       "         ...,\n",
       "         [ 1.35000000e-01,  8.66025404e-01, -5.00000000e-01, ...,\n",
       "          -7.06182459e-01, -3.31999612e+00,  2.49000502e+00],\n",
       "         [ 1.80000000e-01,  7.07106781e-01, -7.07106781e-01, ...,\n",
       "          -7.06182459e-01, -3.36351275e+00,  2.27384710e+00],\n",
       "         [ 2.19000000e-01,  5.00000000e-01, -8.66025404e-01, ...,\n",
       "          -7.06182459e-01, -3.14085412e+00,  1.95576990e+00]],\n",
       " \n",
       "        [[ 5.01000000e-01, -2.58819045e-01, -9.65925826e-01, ...,\n",
       "          -8.99621030e-01,  1.17096138e+00,  2.93503833e+00],\n",
       "         [ 2.93000000e-01, -5.00000000e-01, -8.66025404e-01, ...,\n",
       "          -8.99621030e-01,  1.14722228e+00,  2.99799609e+00],\n",
       "         [ 1.73000000e-01, -7.07106781e-01, -7.07106781e-01, ...,\n",
       "          -8.99621030e-01,  1.18922472e+00,  3.16388130e+00],\n",
       "         ...,\n",
       "         [ 5.25000000e-01,  5.00000000e-01, -8.66025404e-01, ...,\n",
       "          -8.91976326e-01,  2.28475642e+00, -8.27519655e-01],\n",
       "         [ 6.13000000e-01,  2.58819045e-01, -9.65925826e-01, ...,\n",
       "          -8.91976326e-01,  1.88184106e+00, -1.45707738e+00],\n",
       "         [ 6.23000000e-01,  3.05124417e-12, -1.00000000e+00, ...,\n",
       "          -8.91976326e-01,  1.82410824e+00, -1.65052402e+00]]]),\n",
       " array([[[0.655],\n",
       "         [0.62 ],\n",
       "         [0.499],\n",
       "         ...,\n",
       "         [0.578],\n",
       "         [0.613],\n",
       "         [0.579]],\n",
       " \n",
       "        [[0.319],\n",
       "         [0.333],\n",
       "         [0.327],\n",
       "         ...,\n",
       "         [0.285],\n",
       "         [0.255],\n",
       "         [0.223]],\n",
       " \n",
       "        [[0.   ],\n",
       "         [0.   ],\n",
       "         [0.   ],\n",
       "         ...,\n",
       "         [0.028],\n",
       "         [0.014],\n",
       "         [0.   ]],\n",
       " \n",
       "        ...,\n",
       " \n",
       "        [[0.   ],\n",
       "         [0.   ],\n",
       "         [0.   ],\n",
       "         ...,\n",
       "         [0.   ],\n",
       "         [0.   ],\n",
       "         [0.   ]],\n",
       " \n",
       "        [[0.   ],\n",
       "         [0.   ],\n",
       "         [0.   ],\n",
       "         ...,\n",
       "         [0.   ],\n",
       "         [0.   ],\n",
       "         [0.   ]],\n",
       " \n",
       "        [[0.   ],\n",
       "         [0.   ],\n",
       "         [0.   ],\n",
       "         ...,\n",
       "         [0.   ],\n",
       "         [0.   ],\n",
       "         [0.   ]]]),\n",
       " 0.17052802443504333)"
      ]
     },
     "execution_count": 13,
     "metadata": {},
     "output_type": "execute_result"
    }
   ],
   "source": [
    "evaluate(forecast_features= True)"
   ]
  },
  {
   "cell_type": "code",
   "execution_count": 14,
   "metadata": {},
   "outputs": [
    {
     "name": "stdout",
     "output_type": "stream",
     "text": [
      "\u001b[35m\n",
      "⭐️ Use case: evaluate\u001b[0m\n",
      "\u001b[34m\n",
      "Load data from local CSV...\u001b[0m\n",
      "✅ Data loaded, with shape (376944, 6)\n"
     ]
    },
    {
     "name": "stderr",
     "output_type": "stream",
     "text": [
      "100%|██████████| 1000/1000 [00:02<00:00, 356.70it/s]\n"
     ]
    },
    {
     "name": "stdout",
     "output_type": "stream",
     "text": [
      "\u001b[34m\n",
      "Load latest model from local registry...\u001b[0m\n",
      "\u001b[34m\n",
      "Load latest model from disk...\u001b[0m\n"
     ]
    },
    {
     "name": "stderr",
     "output_type": "stream",
     "text": [
      "2024-11-19 12:51:00.448498: I tensorflow/core/common_runtime/executor.cc:1197] [/device:CPU:0] (DEBUG INFO) Executor start aborting (this does not indicate an error and you can ignore this message): INVALID_ARGUMENT: You must feed a value for placeholder tensor 'gradients/split_2_grad/concat/split_2/split_dim' with dtype int32\n",
      "\t [[{{node gradients/split_2_grad/concat/split_2/split_dim}}]]\n",
      "2024-11-19 12:51:00.454746: I tensorflow/core/common_runtime/executor.cc:1197] [/device:CPU:0] (DEBUG INFO) Executor start aborting (this does not indicate an error and you can ignore this message): INVALID_ARGUMENT: You must feed a value for placeholder tensor 'gradients/split_grad/concat/split/split_dim' with dtype int32\n",
      "\t [[{{node gradients/split_grad/concat/split/split_dim}}]]\n",
      "2024-11-19 12:51:00.458704: I tensorflow/core/common_runtime/executor.cc:1197] [/device:CPU:0] (DEBUG INFO) Executor start aborting (this does not indicate an error and you can ignore this message): INVALID_ARGUMENT: You must feed a value for placeholder tensor 'gradients/split_1_grad/concat/split_1/split_dim' with dtype int32\n",
      "\t [[{{node gradients/split_1_grad/concat/split_1/split_dim}}]]\n"
     ]
    },
    {
     "name": "stdout",
     "output_type": "stream",
     "text": [
      "✅ Model loaded from local disk\n"
     ]
    },
    {
     "name": "stderr",
     "output_type": "stream",
     "text": [
      "2024-11-19 12:51:01.506804: I tensorflow/core/common_runtime/executor.cc:1197] [/device:CPU:0] (DEBUG INFO) Executor start aborting (this does not indicate an error and you can ignore this message): INVALID_ARGUMENT: You must feed a value for placeholder tensor 'gradients/split_2_grad/concat/split_2/split_dim' with dtype int32\n",
      "\t [[{{node gradients/split_2_grad/concat/split_2/split_dim}}]]\n",
      "2024-11-19 12:51:01.510978: I tensorflow/core/common_runtime/executor.cc:1197] [/device:CPU:0] (DEBUG INFO) Executor start aborting (this does not indicate an error and you can ignore this message): INVALID_ARGUMENT: You must feed a value for placeholder tensor 'gradients/split_grad/concat/split/split_dim' with dtype int32\n",
      "\t [[{{node gradients/split_grad/concat/split/split_dim}}]]\n",
      "2024-11-19 12:51:01.516390: I tensorflow/core/common_runtime/executor.cc:1197] [/device:CPU:0] (DEBUG INFO) Executor start aborting (this does not indicate an error and you can ignore this message): INVALID_ARGUMENT: You must feed a value for placeholder tensor 'gradients/split_1_grad/concat/split_1/split_dim' with dtype int32\n",
      "\t [[{{node gradients/split_1_grad/concat/split_1/split_dim}}]]\n"
     ]
    },
    {
     "name": "stdout",
     "output_type": "stream",
     "text": [
      "✅ Model evaluated, MAE: 0.06\n",
      "✅ Results saved locally\n",
      "✅ evaluate() done \n",
      "\n"
     ]
    },
    {
     "data": {
      "text/plain": [
       "(array([[[ 5.82000000e-01,  8.66025404e-01, -5.00000000e-01,\n",
       "          -3.61537903e-02, -9.99346238e-01],\n",
       "         [ 6.78000000e-01,  7.07106781e-01, -7.07106781e-01,\n",
       "          -3.68700947e-02, -9.99320067e-01],\n",
       "         [ 7.12000000e-01,  5.00000000e-01, -8.66025404e-01,\n",
       "          -3.75863802e-02, -9.99293382e-01],\n",
       "         ...,\n",
       "         [ 1.17000000e-01,  9.65925826e-01,  2.58819045e-01,\n",
       "          -6.83635154e-02, -9.97660478e-01],\n",
       "         [ 2.83000000e-01,  1.00000000e+00,  1.20427970e-11,\n",
       "          -6.90786032e-02, -9.97611220e-01],\n",
       "         [ 4.49000000e-01,  9.65925826e-01, -2.58819045e-01,\n",
       "          -6.97936556e-02, -9.97561450e-01]],\n",
       " \n",
       "        [[ 0.00000000e+00, -5.00000000e-01,  8.66025404e-01,\n",
       "          -8.46593561e-01, -5.32239930e-01],\n",
       "         [ 0.00000000e+00, -2.58819045e-01,  9.65925826e-01,\n",
       "          -8.46974844e-01, -5.31632970e-01],\n",
       "         [ 0.00000000e+00, -5.89047225e-12,  1.00000000e+00,\n",
       "          -8.47355691e-01, -5.31025736e-01],\n",
       "         ...,\n",
       "         [ 0.00000000e+00, -9.65925826e-01,  2.58819045e-01,\n",
       "          -8.63317734e-01, -5.04660767e-01],\n",
       "         [ 0.00000000e+00, -8.66025404e-01,  5.00000000e-01,\n",
       "          -8.63679244e-01, -5.04041826e-01],\n",
       "         [ 0.00000000e+00, -7.07106781e-01,  7.07106781e-01,\n",
       "          -8.64040311e-01, -5.03422627e-01]],\n",
       " \n",
       "        [[ 0.00000000e+00, -9.65925826e-01,  2.58819045e-01,\n",
       "          -1.04074363e-01,  9.94569518e-01],\n",
       "         [ 0.00000000e+00, -8.66025404e-01,  5.00000000e-01,\n",
       "          -1.03361447e-01,  9.94643862e-01],\n",
       "         [ 0.00000000e+00, -7.07106781e-01,  7.07106781e-01,\n",
       "          -1.02648477e-01,  9.94717694e-01],\n",
       "         ...,\n",
       "         [ 0.00000000e+00, -8.66025404e-01, -5.00000000e-01,\n",
       "          -7.19457452e-02,  9.97408547e-01],\n",
       "         [ 0.00000000e+00, -9.65925826e-01, -2.58819045e-01,\n",
       "          -7.12308019e-02,  9.97459860e-01],\n",
       "         [ 0.00000000e+00, -1.00000000e+00, -1.13714417e-11,\n",
       "          -7.05158220e-02,  9.97510661e-01]],\n",
       " \n",
       "        ...,\n",
       " \n",
       "        [[ 0.00000000e+00, -9.65925826e-01, -2.58819045e-01,\n",
       "           3.94660957e-01,  9.18826822e-01],\n",
       "         [ 0.00000000e+00, -1.00000000e+00, -3.80547780e-12,\n",
       "           3.95319454e-01,  9.18543700e-01],\n",
       "         [ 0.00000000e+00, -9.65925826e-01,  2.58819045e-01,\n",
       "           3.95977749e-01,  9.18260106e-01],\n",
       "         ...,\n",
       "         [ 1.00000000e-02, -5.00000000e-01, -8.66025404e-01,\n",
       "           4.24087483e-01,  9.05621227e-01],\n",
       "         [ 0.00000000e+00, -7.07106781e-01, -7.07106781e-01,\n",
       "           4.24736507e-01,  9.05317016e-01],\n",
       "         [ 0.00000000e+00, -8.66025404e-01, -5.00000000e-01,\n",
       "           4.25385313e-01,  9.05012340e-01]],\n",
       " \n",
       "        [[ 0.00000000e+00,  8.66025404e-01,  5.00000000e-01,\n",
       "           8.21520314e-01,  5.70179247e-01],\n",
       "         [ 0.00000000e+00,  9.65925826e-01,  2.58819045e-01,\n",
       "           8.21928797e-01,  5.69590249e-01],\n",
       "         [ 7.00000000e-03,  1.00000000e+00,  2.34616725e-12,\n",
       "           8.22336858e-01,  5.69000959e-01],\n",
       "         ...,\n",
       "         [ 0.00000000e+00,  2.58819045e-01,  9.65925826e-01,\n",
       "           8.39481058e-01,  5.43388953e-01],\n",
       "         [ 0.00000000e+00,  5.00000000e-01,  8.66025404e-01,\n",
       "           8.39870334e-01,  5.42787088e-01],\n",
       "         [ 0.00000000e+00,  7.07106781e-01,  7.07106781e-01,\n",
       "           8.40259178e-01,  5.42184944e-01]],\n",
       " \n",
       "        [[ 3.40000000e-02, -8.66025404e-01, -5.00000000e-01,\n",
       "           9.27611256e-01,  3.73546994e-01],\n",
       "         [ 0.00000000e+00, -9.65925826e-01, -2.58819045e-01,\n",
       "           9.27878770e-01,  3.72882003e-01],\n",
       "         [ 0.00000000e+00, -1.00000000e+00, -5.28094432e-13,\n",
       "           9.28145807e-01,  3.72216820e-01],\n",
       "         ...,\n",
       "         [ 6.89000000e-01, -2.58819045e-01, -9.65925826e-01,\n",
       "           9.39175502e-01,  3.43437587e-01],\n",
       "         [ 5.13000000e-01, -5.00000000e-01, -8.66025404e-01,\n",
       "           9.39421431e-01,  3.42764314e-01],\n",
       "         [ 2.77000000e-01, -7.07106781e-01, -7.07106781e-01,\n",
       "           9.39666877e-01,  3.42090866e-01]]]),\n",
       " array([[[0.   ],\n",
       "         [0.   ],\n",
       "         [0.   ],\n",
       "         ...,\n",
       "         [0.058],\n",
       "         [0.012],\n",
       "         [0.   ]],\n",
       " \n",
       "        [[0.738],\n",
       "         [0.74 ],\n",
       "         [0.68 ],\n",
       "         ...,\n",
       "         [0.444],\n",
       "         [0.596],\n",
       "         [0.694]],\n",
       " \n",
       "        [[0.002],\n",
       "         [0.057],\n",
       "         [0.113],\n",
       "         ...,\n",
       "         [0.   ],\n",
       "         [0.   ],\n",
       "         [0.   ]],\n",
       " \n",
       "        ...,\n",
       " \n",
       "        [[0.   ],\n",
       "         [0.   ],\n",
       "         [0.003],\n",
       "         ...,\n",
       "         [0.   ],\n",
       "         [0.   ],\n",
       "         [0.   ]],\n",
       " \n",
       "        [[0.   ],\n",
       "         [0.   ],\n",
       "         [0.   ],\n",
       "         ...,\n",
       "         [0.274],\n",
       "         [0.152],\n",
       "         [0.038]],\n",
       " \n",
       "        [[0.   ],\n",
       "         [0.014],\n",
       "         [0.246],\n",
       "         ...,\n",
       "         [0.   ],\n",
       "         [0.   ],\n",
       "         [0.   ]]]),\n",
       " 0.0556657612323761)"
      ]
     },
     "execution_count": 14,
     "metadata": {},
     "output_type": "execute_result"
    }
   ],
   "source": [
    "evaluate(forecast_features= False)"
   ]
  },
  {
   "cell_type": "markdown",
   "metadata": {},
   "source": [
    "# 1) Train Function"
   ]
  },
  {
   "cell_type": "code",
   "execution_count": null,
   "metadata": {},
   "outputs": [],
   "source": [
    "def train(\n",
    "        min_date: str = '2017-10-07 00:00:00',\n",
    "        max_date: str = '2019-12-31 23:00:00',\n",
    "        split_ratio: float = 0.02, # 0.02 represents ~ 1 month of validation data on a 2009-2015 train set\n",
    "        learning_rate: float =0.02,\n",
    "        batch_size: int = 32,\n",
    "        patience: int = 5,\n",
    "        forecast_features: bool = False\n",
    "    ) -> float:\n",
    "\n",
    "    \"\"\"\n",
    "    - Download processed data from your BQ table (or from cache if it exists)\n",
    "    - Train on the preprocessed dataset (which should be ordered by date)\n",
    "    - Store training results and model weights\n",
    "\n",
    "    Return val_mae as a float\n",
    "    \"\"\"\n",
    "\n",
    "    print(Fore.MAGENTA + \"\\n⭐️ Use case: train\" + Style.RESET_ALL)\n",
    "    print(Fore.BLUE + \"\\nLoading preprocessed validation data...\" + Style.RESET_ALL)\n",
    "\n",
    "\n",
    "    # --First-- Load processed PV data using `get_data_with_cache` in chronological order\n",
    "    query_pv = f\"\"\"\n",
    "        SELECT *\n",
    "        FROM {GCP_PROJECT}.{BQ_DATASET}.processed_pv\n",
    "        ORDER BY utc_time\n",
    "    \"\"\"\n",
    "\n",
    "    data_processed_pv_cache_path = Path(LOCAL_DATA_PATH).joinpath(\"processed\", f\"processed_pv.csv\")\n",
    "    data_processed_pv = get_data_with_cache(\n",
    "        gcp_project=GCP_PROJECT,\n",
    "        query=query_pv,\n",
    "        cache_path=data_processed_pv_cache_path,\n",
    "        data_has_header=True\n",
    "    )\n",
    "    # the processed PV data from bq needs to be converted to datetime object\n",
    "    data_processed_pv.utc_time = pd.to_datetime(data_processed_pv.utc_time,utc=True)\n",
    "\n",
    "    if data_processed_pv.shape[0] < 240:\n",
    "        print(\"❌ Not enough processed data retrieved to train on\")\n",
    "        return None\n",
    "\n",
    "\n",
    "    if forecast_features:\n",
    "    # --Second-- Load processed Weather Forecast data in chronological order\n",
    "        query_forecast = f\"\"\"\n",
    "            SELECT *\n",
    "            FROM {GCP_PROJECT}.{BQ_DATASET}.processed_weather_forecast\n",
    "            ORDER BY forecast_dt_unixtime, slice_dt_unixtime\n",
    "        \"\"\"\n",
    "\n",
    "        data_processed_forecast_cache_path = Path(LOCAL_DATA_PATH).joinpath(\"processed\", f\"processed_weather_forecast.csv\")\n",
    "        data_processed_forecast = get_data_with_cache(\n",
    "            gcp_project=GCP_PROJECT,\n",
    "            query=query_forecast,\n",
    "            cache_path=data_processed_forecast_cache_path,\n",
    "            data_has_header=True\n",
    "        )\n",
    "\n",
    "\n",
    "\n",
    "        if data_processed_forecast.shape[0] < 240:\n",
    "            print(\"❌ Not enough processed data retrieved to train on\")\n",
    "            return None\n",
    "\n",
    "        # Split the data into training and testing sets\n",
    "\n",
    "        train_pv = data_processed_pv[(data_processed_pv['utc_time'] > min_date) \\\n",
    "                                 & (data_processed_pv['utc_time'] < max_date)]\n",
    "        train_forecast = data_processed_forecast\n",
    "\n",
    "        X_train, y_train = get_X_y_seq(train_pv,\n",
    "                                    train_forecast,\n",
    "                                    number_of_sequences=10_000,\n",
    "                                    input_length=48,\n",
    "                                    output_length=24,\n",
    "                                    gap_hours=12)\n",
    "\n",
    "        # Train model using `model.py`\n",
    "        model = load_model(forecast_features=True)\n",
    "\n",
    "        if model is None:\n",
    "            model = initialize_model(X_train, y_train, n_unit=24)\n",
    "\n",
    "        model = initialize_model(X_train, y_train, n_unit=24)\n",
    "\n",
    "        model = compile_model(model, learning_rate=learning_rate)\n",
    "        model, history = train_model(model,\n",
    "                                    X_train,\n",
    "                                    y_train,\n",
    "                                    validation_split = 0.3,\n",
    "                                    batch_size = 32,\n",
    "                                    epochs = 50\n",
    "                                    )\n",
    "        val_mae = np.min(history.history['val_mae'])\n",
    "\n",
    "        params = dict(\n",
    "            context=\"train\",\n",
    "            training_set_size=f'Training data from {min_date} to {max_date}',\n",
    "            row_count=len(X_train),\n",
    "        )\n",
    "\n",
    "        # Save results on the hard drive using taxifare.ml_logic.registry\n",
    "        save_results(params=params, metrics=dict(mae=val_mae))\n",
    "\n",
    "        # Save model weight on the hard drive (and optionally on GCS too!)\n",
    "        save_model(model=model, forecast_features= True)\n",
    "\n",
    "    else:\n",
    "\n",
    "        # Split the data into training and testing sets\n",
    "        train_pv = data_processed_pv[data_processed_pv['utc_time'] < max_date]\n",
    "\n",
    "        X_train, y_train = get_X_y_seq_pv(train_pv,\n",
    "                                    number_of_sequences=10_000,\n",
    "                                    input_length=48,\n",
    "                                    output_length=24,\n",
    "                                    gap_hours=12)\n",
    "\n",
    "        # Train model using `model.py`\n",
    "        model = load_model()\n",
    "\n",
    "        if model is None:\n",
    "            model = initialize_model(X_train, y_train, n_unit=24)\n",
    "\n",
    "        model = initialize_model(X_train, y_train, n_unit=24)\n",
    "\n",
    "        model = compile_model(model, learning_rate=learning_rate)\n",
    "        model, history = train_model(model,\n",
    "                                    X_train,\n",
    "                                    y_train,\n",
    "                                    validation_split = 0.3,\n",
    "                                    batch_size = 32,\n",
    "                                    epochs = 50\n",
    "                                    )\n",
    "\n",
    "        val_mae = np.min(history.history['val_mae'])\n",
    "\n",
    "        params = dict(\n",
    "            context=\"train\",\n",
    "            training_set_size=f'Training data from {min_date} to {max_date}',\n",
    "            row_count=len(X_train),\n",
    "        )\n",
    "\n",
    "        # Save results on the hard drive using power.ml_logic.registry\n",
    "        save_results(params=params, metrics=dict(mae=val_mae), history=history)\n",
    "\n",
    "        # Save model weight on the hard drive (and optionally on GCS too!)\n",
    "        save_model(model=model)\n",
    "\n",
    "    print(\"✅ train() done \\n\")\n",
    "\n",
    "    return X_train, y_train, model, history"
   ]
  },
  {
   "cell_type": "code",
   "execution_count": null,
   "metadata": {},
   "outputs": [],
   "source": [
    "X_train , y_train, model, history = train(forecast_features= False)\n",
    "X_train.shape, y_train.shape"
   ]
  },
  {
   "cell_type": "code",
   "execution_count": null,
   "metadata": {},
   "outputs": [],
   "source": [
    "# np.save(file= 'X_train', arr= X_train)\n",
    "# np.save(file= 'y_train', arr= y_train)\n",
    "\n",
    "X = np.load('X_train.npy')\n",
    "y = np.load('y_train.npy')"
   ]
  },
  {
   "cell_type": "code",
   "execution_count": null,
   "metadata": {},
   "outputs": [],
   "source": [
    "X.shape, y.shape"
   ]
  },
  {
   "cell_type": "code",
   "execution_count": null,
   "metadata": {},
   "outputs": [],
   "source": [
    "X_train_full , y_train_full, model_full, history_full = train(forecast_features= True)\n",
    "X_train_full.shape, y_train_full.shape"
   ]
  },
  {
   "cell_type": "code",
   "execution_count": null,
   "metadata": {},
   "outputs": [],
   "source": [
    "# np.save(file= 'X_train_full', arr= X_train_full)\n",
    "# np.save(file= 'y_train_full', arr= y_train_full)\n",
    "\n",
    "X_full = np.load('X_train_full.npy')\n",
    "y_full = np.load('y_train_full.npy')"
   ]
  },
  {
   "cell_type": "code",
   "execution_count": null,
   "metadata": {},
   "outputs": [],
   "source": [
    "X_full.shape, y_full.shape"
   ]
  },
  {
   "cell_type": "markdown",
   "metadata": {},
   "source": [
    "# 2) Model Evaluation "
   ]
  },
  {
   "cell_type": "markdown",
   "metadata": {},
   "source": [
    "## 2.1) historical PV production data training"
   ]
  },
  {
   "cell_type": "code",
   "execution_count": null,
   "metadata": {},
   "outputs": [],
   "source": [
    "evaluate()\n"
   ]
  },
  {
   "cell_type": "code",
   "execution_count": null,
   "metadata": {},
   "outputs": [],
   "source": [
    "plot_loss_mae(history), plot_loss_mae(history_full)"
   ]
  },
  {
   "cell_type": "code",
   "execution_count": null,
   "metadata": {},
   "outputs": [],
   "source": [
    "model = initialize_model(X, y)\n",
    "model = compile_model(model, learning_rate= 1e-3)\n",
    "model, history = train_model(model, X, y)\n",
    "plot_loss_mae(history)\n",
    "model.summary()"
   ]
  },
  {
   "cell_type": "code",
   "execution_count": null,
   "metadata": {},
   "outputs": [],
   "source": []
  },
  {
   "cell_type": "markdown",
   "metadata": {},
   "source": [
    "## 2.2) historical PV production + historical weather-forecast data"
   ]
  },
  {
   "cell_type": "code",
   "execution_count": null,
   "metadata": {},
   "outputs": [],
   "source": [
    "model = initialize_model(X_full, y_full)\n",
    "model = compile_model(model, learning_rate=1e-3)\n",
    "model, history = train_model(model, X_full, y_full)\n",
    "plot_loss_mae(history)\n",
    "model.summary()"
   ]
  },
  {
   "cell_type": "code",
   "execution_count": null,
   "metadata": {},
   "outputs": [],
   "source": [
    "def get_baseline_data(input_date: str) -> np.array:\n",
    "    \"\"\"\n",
    "    Return a numpy array for 3-days (before and ahead of sell date) statistics\n",
    "    of PV power prodcution for a sell date.\n",
    "\n",
    "    Input:\n",
    "    the sell date: 'YYYY-MM-DD' e.g. '2022-07-06'\n",
    "\n",
    "    Output:\n",
    "    numpy array of shape (72,11) for 72 hours of data with 11 features\n",
    "    Features:\n",
    "        {0:'utc_time', 1:'local_time', 2:'electricity', 3:'hour_of_year',\n",
    "        4:'mean', 5:'median', 6:'std', 7:'skew', 8'min', 9'max', 10:'count'}\n",
    "    \"\"\"\n",
    "    # collect input for postprocess\n",
    "    data_processed_pv_cache_path = Path(LOCAL_DATA_PATH).joinpath(\"processed\", f\"processed_pv.csv\")\n",
    "    data_processed_pv = pd.read_csv(data_processed_pv_cache_path)\n",
    "\n",
    "    data_processed_pv.utc_time = pd.to_datetime(data_processed_pv.utc_time,utc=True)\n",
    "    stats_df = get_stats_table(data_processed_pv, capacity=False)\n",
    "\n",
    "    # get plot_df\n",
    "    plot_df = postprocess(input_date, data_processed_pv, stats_df)\n",
    "\n",
    "    # Send as dict from backend to frontend; NaNs have to be replaced\n",
    "    plot_df = plot_df.fillna(0.0)\n",
    "    # plot_dict = plot_df.to_dict()\n",
    "\n",
    "    return plot_df\n",
    "\n",
    "baseline_df = get_baseline_data(input_date= '2022-01-01')\n",
    "baseline_array = baseline_df.to_numpy()\n",
    "baseline_df"
   ]
  },
  {
   "cell_type": "code",
   "execution_count": null,
   "metadata": {},
   "outputs": [],
   "source": [
    "baseline_array[-24:,4] # mean of day-ahead for keras lamdbda layer"
   ]
  },
  {
   "cell_type": "code",
   "execution_count": null,
   "metadata": {},
   "outputs": [],
   "source": [
    "baseline_array[:24, 2] # day before sell for keras lambda layer"
   ]
  },
  {
   "cell_type": "markdown",
   "metadata": {},
   "source": [
    "# 3) API Calls"
   ]
  },
  {
   "cell_type": "code",
   "execution_count": null,
   "metadata": {},
   "outputs": [],
   "source": [
    "### API call ==================================================================\n",
    "#base_url = \"http://127.0.0.1:8000\"\n",
    "base_url = \"https://power-v2-pdymu2v2na-ew.a.run.app\"\n",
    "#------------------------------------------------------------------------------\n",
    "\n",
    "def call_visu(today_date):\n",
    "\n",
    "    params_visu ={\n",
    "        'input_date': today_date,   # '2000-05-15' (dt.date())\n",
    "        'power_source': 'pv',\n",
    "        'capacity': 'true'\n",
    "        }\n",
    "\n",
    "    endpoint_visu = \"/visualisation\"\n",
    "    url_visu = f\"{base_url}{endpoint_visu}\"\n",
    "    response_visu = requests.get(url_visu, params_visu).json()\n",
    "\n",
    "    plot_df = pd.DataFrame.from_dict(response_visu)\n",
    "    plot_df.utc_time = pd.to_datetime(plot_df.utc_time,utc=True)\n",
    "\n",
    "    return plot_df"
   ]
  },
  {
   "cell_type": "code",
   "execution_count": null,
   "metadata": {},
   "outputs": [],
   "source": [
    "import matplotlib.dates as dates\n",
    "\n",
    "\n",
    "# used in the plots\n",
    "today_date = '2022-07-10'\n",
    "plot_df = call_visu(today_date)\n",
    "\n",
    "#------------------------------------------------------------------------------\n"
   ]
  },
  {
   "cell_type": "code",
   "execution_count": null,
   "metadata": {},
   "outputs": [],
   "source": [
    "show_true = 'No'\n",
    "\n",
    "### capacity\n",
    "\n",
    "# time variables\n",
    "today_dt = pd.Timestamp(today_date, tz='UTC')\n",
    "time = plot_df.utc_time.values\n",
    "\n",
    "sep_future = today_dt + pd.Timedelta(days=1)\n",
    "sep_past = today_dt\n",
    "sep_order = today_dt + pd.Timedelta(hours=12)\n",
    "\n",
    "# plot\n",
    "fig, ax = plt.subplots(figsize=(15,5))\n",
    "\n",
    "ax.axvline(sep_past, color='k', linewidth=0.7)\n",
    "ax.axvline(sep_future, color='k', linewidth=0.7)\n",
    "ax.vlines(sep_order, ymin=0, ymax=100, color='k', linewidth=0.7, linestyle='--')\n",
    "\n",
    "# stats\n",
    "# alpha_stats = 0.2\n",
    "# ax.step(time, plot_df['min'].values, where='pre',\n",
    "#         color='k', linestyle=':', alpha=alpha_stats, label='min')\n",
    "# ax.step(time, plot_df['max'].values, where='pre',\n",
    "#         color='k', linestyle=':', alpha=alpha_stats, label='max')\n",
    "# ax.step(time, plot_df['mean'].values, where='pre',\n",
    "#         color='k', linestyle='-', alpha=alpha_stats, label='mean')\n",
    "\n",
    "# lower_bound = plot_df['mean'].values - 1 * plot_df['std'].values\n",
    "# upper_bound = plot_df['mean'].values + 1 * plot_df['std'].values\n",
    "# ax.fill_between(time, lower_bound, upper_bound, step='pre',\n",
    "#                 color='gray',\n",
    "#                 alpha=alpha_stats,\n",
    "#                 label='std')\n",
    "\n",
    "# true current production data\n",
    "current = 37 # current production data\n",
    "ax.step(time[:current], plot_df.cap_fac.values[:current], where='pre',\n",
    "        color='orange', linewidth=4, label='true')\n",
    "\n",
    "# prediction day ahead data\n",
    "hori = -24\n",
    "ax.step(time[hori:], plot_df.pred.values[hori:], where='pre',\n",
    "        color='orange', linewidth=4, linestyle=':', label='pred')\n",
    "\n",
    "###\n",
    "if show_true == 'Yes':\n",
    "    ax.step(time[-36:], plot_df.cap_fac.values[-36:], where='pre',\n",
    "         color='orange', linewidth=4, linestyle='-', alpha=0.4)\n",
    "\n",
    "# date ticks\n",
    "ax.xaxis.set_major_locator(dates.HourLocator(byhour=range(24), interval=6, tz='UTC'))\n",
    "# ax.xaxis.set_major_formatter(dates.DateFormatter('%H:%M %d/%m/%Y'))\n",
    "ax.xaxis.set_major_formatter(dates.DateFormatter('%H:%M'))\n",
    "\n",
    "ax.set_xlim(today_dt - pd.Timedelta(days=1), today_dt + pd.Timedelta(days=2))\n",
    "ax.set_ylim(0,120.0)\n",
    "ax.set_xlabel('Time')\n",
    "ax.set_ylabel('Capacity factor in %')\n",
    "\n",
    "ax.annotate('Day-Ahead',(0.77,0.9), xycoords='subfigure fraction')\n",
    "ax.annotate('Today',(0.48,0.9), xycoords='subfigure fraction')\n",
    "ax.annotate('Day-Behind',(0.15,0.9), xycoords='subfigure fraction')\n",
    "ax.annotate('Order book closed',(0.52,0.77), xycoords='subfigure fraction')\n",
    "#ax.set_title(f\"Day Ahead prediction for { sep_future.strftime('%d/%m/%Y') }\")\n",
    "\n",
    "# ax.legend();"
   ]
  },
  {
   "cell_type": "code",
   "execution_count": null,
   "metadata": {},
   "outputs": [],
   "source": []
  }
 ],
 "metadata": {
  "kernelspec": {
   "display_name": "power-Shvux39R-py3.10",
   "language": "python",
   "name": "python3"
  },
  "language_info": {
   "codemirror_mode": {
    "name": "ipython",
    "version": 3
   },
   "file_extension": ".py",
   "mimetype": "text/x-python",
   "name": "python",
   "nbconvert_exporter": "python",
   "pygments_lexer": "ipython3",
   "version": "3.10.6"
  }
 },
 "nbformat": 4,
 "nbformat_minor": 2
}
