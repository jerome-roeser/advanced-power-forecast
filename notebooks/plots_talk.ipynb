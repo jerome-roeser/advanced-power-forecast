{
 "cells": [
  {
   "cell_type": "markdown",
   "metadata": {},
   "source": [
    "## 0.1) imports"
   ]
  },
  {
   "cell_type": "code",
   "execution_count": null,
   "metadata": {},
   "outputs": [],
   "source": [
    "import matplotlib.pyplot as plt\n",
    "import seaborn as sns\n",
    "import numpy as np\n",
    "import pandas as pd\n",
    "\n",
    "import datetime as dt"
   ]
  },
  {
   "cell_type": "code",
   "execution_count": null,
   "metadata": {},
   "outputs": [],
   "source": [
    "csv_file_october_forecast_and_actual_solar = './energy-charts_Forecasts_and_actual_values_in_Germany_in_October_2024.csv'\n",
    "csv_file_week_27_solar = './energy-charts_Forecasts_and_actual_values_in_Germany_in_week_27_2024.csv'\n",
    "csv_file_week_27_prices = './energy-charts_Electricity_production_and_spot_prices_in_Germany_in_week_27_2024.csv'\n",
    "\n",
    "data = pd.read_csv(csv_file_october_forecast_and_actual_solar, skiprows=1)\n",
    "data_actual_forecast_solar_w27_2024 = pd.read_csv(csv_file_week_27_solar, skiprows= 1)\n",
    "data_spot_prices_w27_2024 = pd.read_csv(csv_file_week_27_prices, skiprows= 1)\n",
    "\n",
    "# data = pd.read_csv(csv_file)\n",
    "\n",
    "data"
   ]
  },
  {
   "cell_type": "code",
   "execution_count": null,
   "metadata": {},
   "outputs": [],
   "source": [
    "df = data.copy()\n",
    "df.columns = ['date', 'solar', 'solar_forecast']\n",
    "df['date'] = pd.to_datetime(df['date'], utc= True)\n",
    "df.set_index('date', inplace= True)\n",
    "df"
   ]
  },
  {
   "cell_type": "code",
   "execution_count": null,
   "metadata": {},
   "outputs": [],
   "source": [
    "plt.figure(figsize=(14,6))\n",
    "\n",
    "plt.suptitle('Comparison solar PV actual vs forecast')\n",
    "\n",
    "ax = plt.gca()\n",
    "plt.plot(df['solar'], c='darkorange', fillstyle='full')\n",
    "# ax1.plot(r[\"date\"], r[\"close\"], lw=2)\n",
    "plt.fill_between(df.index, 0, df[\"solar\"], alpha=0.3, color='orange', label='real')\n",
    "plt.plot(df['solar_forecast'], color='green', label='forecast')\n",
    "plt.grid()\n",
    "ax.set_xlim(dt.date(2024,10,1), dt.date(2024, 10, 10))\n",
    "ax.set_ylim(-1000, 35000)\n",
    "plt.legend()\n",
    "plt.ylabel('Power / MWh')\n",
    "\n",
    "# plt.fill_between(x=df.index, y1=df['solar'], y2=0)\n",
    "# plt.title('solar')"
   ]
  },
  {
   "cell_type": "code",
   "execution_count": null,
   "metadata": {},
   "outputs": [],
   "source": [
    "def plot_actual_vs_forecast_PV(data_actual_forecast_solar: pd.DataFrame) -> None:\n",
    "    df = data_actual_forecast_solar.copy()\n",
    "    df.columns = ['date', 'solar', 'solar_forecast']\n",
    "    df.index = pd.to_datetime(df['date'], utc= True)\n",
    "    df.set_index('date', inplace= True)\n",
    "\n",
    "    plt.figure(figsize=(14,6))\n",
    "    ax = plt.gca()\n",
    "\n",
    "    plt.suptitle('Comparison solar PV actual vs forecast')\n",
    "\n",
    "    plt.plot(df['solar'], c='darkorange', fillstyle='full', label='real')\n",
    "    plt.fill_between(df.index, 0, df[\"solar\"], alpha=0.3, color='orange', label='real')\n",
    "\n",
    "    plt.plot(df['solar_forecast'], color='green', label='forecast')\n",
    "\n",
    "    plt.ylabel('Power / MWh')\n",
    "\n",
    "    # Set Axes (optional)\n",
    "    # ax.set_xlim(dt.date(2024,10,1), dt.date(2024, 10, 10))\n",
    "    # ax.set_ylim(-1000, 35000)\n",
    "\n",
    "    plt.grid()\n",
    "    plt.legend()\n",
    "\n",
    "\n",
    "plot_actual_vs_forecast_PV(data_actual_forecast_solar_w27_2024)"
   ]
  },
  {
   "cell_type": "code",
   "execution_count": null,
   "metadata": {},
   "outputs": [],
   "source": [
    "import pandas as pd\n",
    "import matplotlib.pyplot as plt\n",
    "from pypalettes import load_cmap\n",
    "from pyfonts import load_font\n",
    "from highlight_text import fig_text, ax_text\n",
    "from drawarrow import fig_arrow, ax_arrow\n",
    "\n",
    "cmap = load_cmap('Coconut', cmap_type='continuous', reverse=True)\n",
    "font = load_font('https://github.com/coreyhu/Urbanist/blob/main/fonts/ttf/Urbanist-Light.ttf?raw=true')\n",
    "bold_font = load_font('https://github.com/coreyhu/Urbanist/blob/main/fonts/ttf/Urbanist-Medium.ttf?raw=true')"
   ]
  },
  {
   "cell_type": "code",
   "execution_count": null,
   "metadata": {},
   "outputs": [],
   "source": [
    "fig, ax = plt.subplots(figsize=(14,6), dpi=300)\n",
    "ax.set_axis_off()\n",
    "\n",
    "\n",
    "df = data_actual_forecast_solar_w27_2024.copy()\n",
    "df.columns = ['date', 'solar', 'solar_forecast']\n",
    "df['date'] = pd.to_datetime(df['date'], utc= True)\n",
    "df.set_index('date', inplace= True)\n",
    "\n",
    "\n",
    "\n",
    "plt.plot(df['solar'], c='darkorange', fillstyle='full', label='real')\n",
    "plt.fill_between(df.index, 0, df[\"solar\"], alpha=0.3, color='orange', label='real')\n",
    "\n",
    "# plt.plot(df['solar_forecast'], color='green', label='forecast')\n",
    "\n",
    "plt.ylabel('Power / MWh')\n",
    "\n",
    "\n",
    "h_lines = [0, 1e4, 2e4, 3e4, ]\n",
    "ax.hlines(y=h_lines, xmin = min(df.index), xmax= max(df.index), linestyles=':')\n",
    "for value in h_lines:\n",
    "    ax.text(x= min(df.index) - dt.timedelta(0.5), y=value, s= f\"{value}\", va='center', color= cmap(value))\n",
    "\n",
    "s = 'PV power production'\n",
    "ax_text(x=min(df.index), y=4e4, s=s, font=font, size=35, ha='left')\n",
    "\n",
    "s = 'Electricity spot prices in Germany in week 27 2024'\n",
    "ax_text(x=min(df.index), y=3.6e4, s=s, font=font, size=16, ha='left', color='grey', alpha=0.7)\n",
    "\n",
    "s = '<Graph>: @jeromeroeser\\n<Data Source>: Energy-Charts.info'\n",
    "ax_text(x=min(df.index), y=-1000, s=s, font=font, size=8, ha='left', highlight_textprops=[{'font': bold_font}]*2)"
   ]
  },
  {
   "cell_type": "code",
   "execution_count": null,
   "metadata": {},
   "outputs": [],
   "source": [
    "df_price = data_spot_prices_w27_2024.copy()\n",
    "df_price.columns = ['date', 'non-renewable', 'renewable', 'price']\n",
    "df_price['date'] = pd.to_datetime(df_price['date'], utc= True)\n",
    "df_price"
   ]
  },
  {
   "cell_type": "code",
   "execution_count": null,
   "metadata": {},
   "outputs": [],
   "source": [
    "import pandas as pd\n",
    "import matplotlib.pyplot as plt\n",
    "from pypalettes import load_cmap\n",
    "from pyfonts import load_font\n",
    "from highlight_text import fig_text, ax_text\n",
    "from drawarrow import fig_arrow, ax_arrow\n",
    "\n",
    "cmap = load_cmap('Coconut', cmap_type='continuous', reverse=True)\n",
    "font = load_font('https://github.com/coreyhu/Urbanist/blob/main/fonts/ttf/Urbanist-Light.ttf?raw=true')\n",
    "bold_font = load_font('https://github.com/coreyhu/Urbanist/blob/main/fonts/ttf/Urbanist-Medium.ttf?raw=true')"
   ]
  },
  {
   "cell_type": "code",
   "execution_count": null,
   "metadata": {},
   "outputs": [],
   "source": [
    "fig, ax = plt.subplots(figsize=(14,6), dpi=300)\n",
    "ax.set_axis_off()\n",
    "\n",
    "for i, row in df_price.iterrows():\n",
    "   date = row['date']\n",
    "   price = row['price']\n",
    "   color = cmap(price)\n",
    "   ax.scatter(x=date, y=price, color= color)\n",
    "   ax.plot([date,date], [0,price], color= color, alpha= 0.8)\n",
    "\n",
    "\n",
    "\n",
    "h_lines = [-30, 0, 30, 60, 90, 120]\n",
    "ax.hlines(y=h_lines, xmin = min(df_price['date']), xmax= max(df_price['date']), linestyles=':')\n",
    "for value in h_lines:\n",
    "    ax.text(x= min(df_price['date']) - dt.timedelta(0.2), y=value, s= f\"{value}\", va='center', color= cmap(value))\n",
    "\n",
    "s = 'Spot Market Prices'\n",
    "ax_text(x=min(df_price['date']), y=210, s=s, font=font, size=35, ha='left')\n",
    "\n",
    "s = 'Electricity spot prices in Germany in week 27 2024'\n",
    "ax_text(x=min(df_price['date']), y=185, s=s, font=font, size=16, ha='left', color='grey', alpha=0.7)\n",
    "\n",
    "s = '<Graph>: @jeromeroeser\\n<Data Source>: Energy-Charts.info'\n",
    "ax_text(x=min(df_price['date']), y=-40, s=s, font=font, size=8, ha='left', highlight_textprops=[{'font': bold_font}]*2)\n",
    "# plt.show()"
   ]
  },
  {
   "cell_type": "code",
   "execution_count": null,
   "metadata": {},
   "outputs": [],
   "source": [
    "fig, ax = plt.subplots(dpi=300, figsize=(15,8))\n",
    "\n",
    "# ax.plot(df_price['date'], df_price['price'])\n",
    "# ax.fill_between(df_price['date'], df_price['price'], alpha=0.3)\n",
    "\n",
    "# before\n",
    "color = '#335c67'\n",
    "before_df = df_price.query(\"price >= 0.1\")\n",
    "ax.plot(before_df['date'], before_df['price'], color=color)\n",
    "ax.fill_between(before_df['date'], before_df['price'], alpha=0.3, color=color)\n",
    "\n",
    "# after\n",
    "color = '#9e2a2b'\n",
    "after_df = df_price.query(\"price <= 0\")\n",
    "ax.plot(after_df['date'], after_df['price'], color=color)\n",
    "ax.fill_between(after_df['date'], after_df['price'], alpha=0.3, color=color)\n",
    "\n",
    "\n",
    "plt.show()"
   ]
  },
  {
   "cell_type": "code",
   "execution_count": null,
   "metadata": {},
   "outputs": [],
   "source": [
    "df_solar = data_actual_forecast_solar_w27_2024.copy()\n",
    "df_solar.columns = ['date', 'solar', 'solar_forecast']\n",
    "df_solar['date'] = pd.to_datetime(df_solar['date'], utc= True)\n",
    "df_solar.set_index('date', inplace= True)\n",
    "df_solar.info()"
   ]
  },
  {
   "cell_type": "code",
   "execution_count": null,
   "metadata": {},
   "outputs": [],
   "source": [
    "plt.style.available"
   ]
  },
  {
   "cell_type": "code",
   "execution_count": null,
   "metadata": {},
   "outputs": [],
   "source": [
    "with plt.style.context('seaborn-v0_8-deep'):\n",
    "    # figsize\n",
    "    plt.figure(figsize=(14,8))\n",
    "    # getting axes\n",
    "    ax1 = plt.gca()\n",
    "    # duplicating the ax1\n",
    "    ax2 = ax1.twinx()\n",
    "    # Weekly payments and Mean Payments\n",
    "\n",
    "    ax1.plot(df_solar['solar'], c='darkorange', label='real')\n",
    "    ax1.fill_between(df_solar.index, 0, df_solar[\"solar\"], alpha=0.3, color='orange', label='real')\n",
    "\n",
    "    ax1.plot(df_solar['solar_forecast'], color='green', label='forecast')\n",
    "\n",
    "    ax2.scatter(df_price['date'], df_price['price'])\n",
    "    ax2.plot(df_price['date'], df_price['price'])\n",
    "\n",
    "    ax1.set_ylim(-1000, 70000)\n",
    "    ax2.set_ylim(-220,180)\n"
   ]
  },
  {
   "cell_type": "code",
   "execution_count": null,
   "metadata": {},
   "outputs": [],
   "source": [
    "X = np.load('X_train_full.npy')\n",
    "pd.DataFrame(X[0,:,:]).boxplot()"
   ]
  }
 ],
 "metadata": {
  "kernelspec": {
   "display_name": "power-Shvux39R-py3.10",
   "language": "python",
   "name": "python3"
  },
  "language_info": {
   "codemirror_mode": {
    "name": "ipython",
    "version": 3
   },
   "file_extension": ".py",
   "mimetype": "text/x-python",
   "name": "python",
   "nbconvert_exporter": "python",
   "pygments_lexer": "ipython3",
   "version": "3.10.6"
  }
 },
 "nbformat": 4,
 "nbformat_minor": 2
}
